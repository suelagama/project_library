{
 "cells": [
  {
   "cell_type": "code",
   "execution_count": 1,
   "metadata": {},
   "outputs": [
    {
     "name": "stdout",
     "output_type": "stream",
     "text": [
      "CSV file 'book_data.csv' created successfully.\n"
     ]
    }
   ],
   "source": [
    "import pandas as pd\n",
    "import csv\n",
    "\n",
    "url = 'https://www.googleapis.com/books/v1/volumes/?q=J.K.Rowling'\n",
    "\n",
    "df = pd.read_json(url)\n",
    "# display(df['items'][1]['volumeInfo']['publishedDate'])\n",
    "\n",
    "with open('book_data.csv', 'w', newline='', encoding='utf-8') as csvfile:\n",
    "    fieldnames = ['title', 'subtitle', 'authors', 'publisher', 'publishedDate', 'description', 'categories', 'image']\n",
    "    writer = csv.DictWriter(csvfile, fieldnames=fieldnames)\n",
    "    writer.writeheader()\n",
    "\n",
    "    for item in df['items']:\n",
    "        if 'publishedDate' not in item['volumeInfo']:\n",
    "            item['volumeInfo']['publishedDate'] = 0\n",
    "        item['volumeInfo']['year'] = pd.to_datetime(\n",
    "            item['volumeInfo']['publishedDate']).strftime('%Y')\n",
    "        volume_info = item['volumeInfo']\n",
    "        image = volume_info.get('imageLinks', {})\n",
    "        # isbn = volume_info['industryIdentifiers'][0]\n",
    "        try:\n",
    "            writer.writerow({\n",
    "                # 'isbn': isbn.get('identifier', ''),\n",
    "                'title': volume_info.get('title', ''),\n",
    "                'subtitle': volume_info.get('subtitle', ''),\n",
    "                'authors': ', '.join(volume_info.get('authors', [])),\n",
    "                'publisher': volume_info.get('publisher', ''),\n",
    "                'publishedDate': volume_info.get('year', ''),\n",
    "                'description': volume_info.get('description', ''),\n",
    "                'categories': ', '.join(volume_info.get('categories', [])),\n",
    "                'image': image.get('thumbnail', '')\n",
    "                })\n",
    "\n",
    "        except KeyError:\n",
    "            print(f\"Skipping item due to missing keys: {item}\")\n",
    "\n",
    "print(\"CSV file 'book_data.csv' created successfully.\")"
   ]
  },
  {
   "cell_type": "code",
   "execution_count": null,
   "metadata": {},
   "outputs": [],
   "source": []
  }
 ],
 "metadata": {
  "kernelspec": {
   "display_name": ".venv",
   "language": "python",
   "name": "python3"
  },
  "language_info": {
   "codemirror_mode": {
    "name": "ipython",
    "version": 3
   },
   "file_extension": ".py",
   "mimetype": "text/x-python",
   "name": "python",
   "nbconvert_exporter": "python",
   "pygments_lexer": "ipython3",
   "version": "3.12.3"
  }
 },
 "nbformat": 4,
 "nbformat_minor": 2
}
